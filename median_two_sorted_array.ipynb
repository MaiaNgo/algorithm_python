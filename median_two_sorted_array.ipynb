{
 "cells": [
  {
   "cell_type": "code",
   "execution_count": 76,
   "metadata": {},
   "outputs": [],
   "source": [
    "nums1 = [1,3,6]\n",
    "nums2 = [2,8]\n",
    "\n",
    "# nums1.extend(nums2)\n",
    "# nums = sorted(nums1)\n",
    "# nums\n",
    "\n",
    "# -> 3"
   ]
  },
  {
   "cell_type": "code",
   "execution_count": 80,
   "metadata": {},
   "outputs": [
    {
     "name": "stdout",
     "output_type": "stream",
     "text": [
      "[1, 2, 3, 6, 8]\n",
      "3\n"
     ]
    },
    {
     "data": {
      "text/plain": [
       "3"
      ]
     },
     "execution_count": 80,
     "metadata": {},
     "output_type": "execute_result"
    }
   ],
   "source": [
    "# brute force\n",
    "def findMedianSortedArrays(nums1, nums2):\n",
    "    nums = []\n",
    "    j = 0 # current index of nums2 list\n",
    "    for i in range(len(nums1)):\n",
    "        if nums1[i] <= nums2[j]:\n",
    "            # put in the merge list\n",
    "            nums.append(nums1[i])\n",
    "\n",
    "            # find in nums2 list the number between this number and the next number\n",
    "            while i + 1 < len(nums1) and nums1[i] <= nums2[j] <= nums1[i+1]:\n",
    "                # if not equal/duplicate, add it to the merge list\n",
    "                if nums2[j] != nums1[i] and nums2[j] != nums1[i+1]:\n",
    "                    nums.append(nums2[j])\n",
    "\n",
    "                # increase nums2 index, move forward\n",
    "                if j < len(nums2) - 1:\n",
    "                    j += 1\n",
    "        else:\n",
    "            # put num in nums2 to the merge list\n",
    "            nums.append(nums2[j])\n",
    "\n",
    "            # move forward\n",
    "            if j < len(nums2) - 1:\n",
    "                j += 1\n",
    "\n",
    "    # add the rest of nums2 to nums1\n",
    "    nums.extend(nums2[j:])\n",
    "\n",
    "    print(nums)\n",
    "        \n",
    "    # now get the median\n",
    "    median = 0\n",
    "    if len(nums) % 2 == 1:\n",
    "        median = nums[len(nums) // 2]\n",
    "    else:\n",
    "        median = (nums[len(nums)/2] + nums[len(nums)//2 -1]) / 2\n",
    "\n",
    "    print(median)\n",
    "    return median\n",
    "\n",
    "\n",
    "findMedianSortedArrays(nums1, nums2)   "
   ]
  },
  {
   "cell_type": "code",
   "execution_count": 81,
   "metadata": {},
   "outputs": [],
   "source": [
    "# better\n",
    "# we want to avoid the nested loop above\n",
    "# the idea is to have two pointers to walk through both lists together\n",
    "# each time, we compare the two numbers at two pointers\n",
    "# which one smaller we put into the merge list an move its pointer forward\n",
    "# until we reach the end of both list, we have the sorted merged list without the nested loop\n",
    "def findMedianSortedArrays(nums1, nums2):\n",
    "    pointer1 = pointer2 = 0\n",
    "    nums = []\n",
    "\n",
    "    # loop until exhausted at least one list\n",
    "    while pointer1 < len(nums1) and pointer2 < len(nums2):\n",
    "        if nums1[pointer1] < nums2[pointer2]:\n",
    "            if nums1[pointer1] not in nums:\n",
    "                nums.append(nums1[pointer1])\n",
    "            pointer1 += 1   \n",
    "        elif nums1[pointer1] == nums2[pointer2]:\n",
    "            if nums1[pointer1] not in nums:\n",
    "                nums.append(nums1[pointer1])\n",
    "            pointer1 += 1\n",
    "            pointer2 += 1\n",
    "                \n",
    "        else:\n",
    "            if nums2[pointer2] not in nums:\n",
    "                nums.append(nums2[pointer2])\n",
    "            pointer2 += 1\n",
    "    \n",
    "    # check if any list not exhausted yet, bring all left item over\n",
    "    if pointer1 < len(nums1):\n",
    "        for n in nums1[pointer1:]:\n",
    "            if n not in nums:\n",
    "                nums.append(n)\n",
    "\n",
    "    if pointer2 < len(nums2):\n",
    "        for n in nums2[pointer2:]:\n",
    "            if n not in nums:\n",
    "                nums.append(n)\n",
    "\n",
    "    print(nums1, nums2, nums)\n",
    "\n",
    "    # now, get the median from merge list\n",
    "    median = 0\n",
    "    if len(nums) % 2 == 1:\n",
    "        median = nums[len(nums) // 2]\n",
    "    else:\n",
    "        median = (nums[len(nums)//2] + nums[len(nums)//2 -1]) / 2\n",
    "\n",
    "    print(median)\n",
    "    return median\n"
   ]
  },
  {
   "cell_type": "code",
   "execution_count": 82,
   "metadata": {},
   "outputs": [
    {
     "name": "stdout",
     "output_type": "stream",
     "text": [
      "[1, 1, 3, 56, 8, 9] [1, 2, 5, 7, 22, 23] [1, 2, 3, 5, 7, 22, 23, 56, 8, 9]\n",
      "14.5\n"
     ]
    },
    {
     "data": {
      "text/plain": [
       "14.5"
      ]
     },
     "execution_count": 82,
     "metadata": {},
     "output_type": "execute_result"
    }
   ],
   "source": [
    "nums1 = [1,1,3,56,8,9]\n",
    "nums2 = [1,2,5,7,22,23]\n",
    "findMedianSortedArrays(nums1, nums2)"
   ]
  }
 ],
 "metadata": {
  "interpreter": {
   "hash": "2e16eb9cf582685a2069fbd1d69b094b0e503fcb31a60a6324e750c4274a81af"
  },
  "kernelspec": {
   "display_name": "Python 3.7.4 ('base')",
   "language": "python",
   "name": "python3"
  },
  "language_info": {
   "codemirror_mode": {
    "name": "ipython",
    "version": 3
   },
   "file_extension": ".py",
   "mimetype": "text/x-python",
   "name": "python",
   "nbconvert_exporter": "python",
   "pygments_lexer": "ipython3",
   "version": "3.7.4"
  },
  "orig_nbformat": 4
 },
 "nbformat": 4,
 "nbformat_minor": 2
}
