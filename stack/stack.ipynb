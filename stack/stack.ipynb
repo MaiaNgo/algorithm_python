{
 "cells": [
  {
   "cell_type": "code",
   "execution_count": 5,
   "metadata": {},
   "outputs": [],
   "source": [
    "# Node\n",
    "class Node():\n",
    "    def __init__(self, value):\n",
    "        self.value = value\n",
    "        self.next = None"
   ]
  },
  {
   "cell_type": "code",
   "execution_count": 6,
   "metadata": {},
   "outputs": [],
   "source": [
    "class Stack():\n",
    "    def __init__(self, value):\n",
    "        node = Node(value)\n",
    "        self.top = node\n",
    "        self.height = 1"
   ]
  },
  {
   "cell_type": "code",
   "execution_count": 7,
   "metadata": {},
   "outputs": [],
   "source": [
    "# util method to convert to a list\n",
    "class Stack():\n",
    "    def __init__(self, value):\n",
    "        node = Node(value)\n",
    "        self.top = node\n",
    "        self.height = 1\n",
    "    \n",
    "    def to_list(self):\n",
    "        l = []\n",
    "        t = self.top\n",
    "        while t:\n",
    "            l.append(t.value)\n",
    "            t = t.next\n",
    "        return l"
   ]
  },
  {
   "cell_type": "code",
   "execution_count": 8,
   "metadata": {},
   "outputs": [
    {
     "data": {
      "text/plain": [
       "[1, 2, 3]"
      ]
     },
     "execution_count": 8,
     "metadata": {},
     "output_type": "execute_result"
    }
   ],
   "source": [
    "st = Stack(1)\n",
    "st.top.next = Node(2)\n",
    "st.top.next.next = Node(3)\n",
    "\n",
    "st.to_list()"
   ]
  },
  {
   "cell_type": "code",
   "execution_count": 11,
   "metadata": {},
   "outputs": [],
   "source": [
    "# push method\n",
    "class Stack():\n",
    "    def __init__(self, value):\n",
    "        node = Node(value)\n",
    "        self.top = node\n",
    "        self.height = 1\n",
    "    \n",
    "    def to_list(self):\n",
    "        l = []\n",
    "        t = self.top\n",
    "        while t:\n",
    "            l.append(t.value)\n",
    "            t = t.next\n",
    "        return l\n",
    "\n",
    "    def push(self, value):\n",
    "        node = Node(value)\n",
    "        node.next = self.top\n",
    "        self.top = node\n",
    "        return True"
   ]
  },
  {
   "cell_type": "code",
   "execution_count": 13,
   "metadata": {},
   "outputs": [
    {
     "data": {
      "text/plain": [
       "[3, 2, 1]"
      ]
     },
     "execution_count": 13,
     "metadata": {},
     "output_type": "execute_result"
    }
   ],
   "source": [
    "st = Stack(1)\n",
    "st.push(2)\n",
    "st.push(3)\n",
    "\n",
    "st.to_list()"
   ]
  },
  {
   "cell_type": "code",
   "execution_count": 17,
   "metadata": {},
   "outputs": [],
   "source": [
    "# pop\n",
    "class Stack():\n",
    "    def __init__(self, value):\n",
    "        node = Node(value)\n",
    "        self.top = node\n",
    "        self.height = 1\n",
    "    \n",
    "    def to_list(self):\n",
    "        l = []\n",
    "        t = self.top\n",
    "        while t:\n",
    "            l.append(t.value)\n",
    "            t = t.next\n",
    "        return l\n",
    "\n",
    "    def push(self, value):\n",
    "        node = Node(value)\n",
    "        node.next = self.top\n",
    "        self.top = node\n",
    "        self.height += 1\n",
    "        return True\n",
    "\n",
    "    def pop(self):\n",
    "        node = self.top\n",
    "        self.top = self.top.next\n",
    "        node = Node\n",
    "        self.height -= 1\n",
    "        return True"
   ]
  },
  {
   "cell_type": "code",
   "execution_count": 18,
   "metadata": {},
   "outputs": [
    {
     "data": {
      "text/plain": [
       "[3, 2, 1]"
      ]
     },
     "execution_count": 18,
     "metadata": {},
     "output_type": "execute_result"
    }
   ],
   "source": [
    "st = Stack(1)\n",
    "st.push(2)\n",
    "st.push(3)\n",
    "\n",
    "st.to_list()"
   ]
  },
  {
   "cell_type": "code",
   "execution_count": 19,
   "metadata": {},
   "outputs": [
    {
     "data": {
      "text/plain": [
       "[2, 1]"
      ]
     },
     "execution_count": 19,
     "metadata": {},
     "output_type": "execute_result"
    }
   ],
   "source": [
    "st.pop()\n",
    "st.to_list()"
   ]
  },
  {
   "cell_type": "code",
   "execution_count": null,
   "metadata": {},
   "outputs": [],
   "source": []
  }
 ],
 "metadata": {
  "interpreter": {
   "hash": "2e16eb9cf582685a2069fbd1d69b094b0e503fcb31a60a6324e750c4274a81af"
  },
  "kernelspec": {
   "display_name": "Python 3.7.4 ('base')",
   "language": "python",
   "name": "python3"
  },
  "language_info": {
   "codemirror_mode": {
    "name": "ipython",
    "version": 3
   },
   "file_extension": ".py",
   "mimetype": "text/x-python",
   "name": "python",
   "nbconvert_exporter": "python",
   "pygments_lexer": "ipython3",
   "version": "3.7.4"
  },
  "orig_nbformat": 4
 },
 "nbformat": 4,
 "nbformat_minor": 2
}
