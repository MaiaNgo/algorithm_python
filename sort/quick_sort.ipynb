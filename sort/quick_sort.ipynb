{
 "cells": [
  {
   "cell_type": "code",
   "execution_count": 1,
   "metadata": {},
   "outputs": [],
   "source": [
    "# quick sort\n",
    "# the idea is to find the PIVOT point where it devide the list into two half: one smaller then the pivot and one bigger than the pivot\n",
    "# then, it cna recursively apply same concept on both half until we have the sorted list\n"
   ]
  },
  {
   "cell_type": "code",
   "execution_count": 12,
   "metadata": {},
   "outputs": [],
   "source": [
    "def pivot(l, pivot_index, end_index):\n",
    "    swap_index = pivot_index\n",
    "    for i in range(pivot_index + 1, end_index+1):\n",
    "        if l[i] < l[pivot_index]:\n",
    "            swap_index += 1\n",
    "            l[swap_index],l[i] = l[i],l[swap_index]\n",
    "    l[pivot_index],l[swap_index] = l[swap_index],l[pivot_index]\n",
    "\n",
    "    #print(f'pivotted: {l}. Pivot index: {swap_index}')\n",
    "    return swap_index\n",
    "\n",
    "            \n",
    "\n"
   ]
  },
  {
   "cell_type": "code",
   "execution_count": 13,
   "metadata": {},
   "outputs": [],
   "source": [
    "def _quick_sort(l, begin_index, end_index):\n",
    "    if begin_index < end_index:\n",
    "        pivot_index = pivot(l, begin_index, end_index)\n",
    "        _quick_sort(l, begin_index, pivot_index-1)\n",
    "        _quick_sort(l, pivot_index+1,end_index)\n",
    "\n",
    "    return l\n",
    "\n",
    "def quick_sort(l):\n",
    "    return _quick_sort(l, 0, len(l)-1)"
   ]
  },
  {
   "cell_type": "code",
   "execution_count": 14,
   "metadata": {},
   "outputs": [
    {
     "data": {
      "text/plain": [
       "[0, 1, 2, 3, 4, 5, 6, 7, 8, 9]"
      ]
     },
     "execution_count": 14,
     "metadata": {},
     "output_type": "execute_result"
    }
   ],
   "source": [
    "l = [2,1,3,5,6,4,7,8,0,9]\n",
    "quick_sort(l)"
   ]
  },
  {
   "cell_type": "code",
   "execution_count": null,
   "metadata": {},
   "outputs": [],
   "source": []
  }
 ],
 "metadata": {
  "interpreter": {
   "hash": "2e16eb9cf582685a2069fbd1d69b094b0e503fcb31a60a6324e750c4274a81af"
  },
  "kernelspec": {
   "display_name": "Python 3.7.4 ('base')",
   "language": "python",
   "name": "python3"
  },
  "language_info": {
   "codemirror_mode": {
    "name": "ipython",
    "version": 3
   },
   "file_extension": ".py",
   "mimetype": "text/x-python",
   "name": "python",
   "nbconvert_exporter": "python",
   "pygments_lexer": "ipython3",
   "version": "3.7.4"
  },
  "orig_nbformat": 4
 },
 "nbformat": 4,
 "nbformat_minor": 2
}
