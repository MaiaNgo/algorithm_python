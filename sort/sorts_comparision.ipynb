{
 "cells": [
  {
   "cell_type": "code",
   "execution_count": 14,
   "metadata": {},
   "outputs": [],
   "source": [
    "import cProfile"
   ]
  },
  {
   "cell_type": "code",
   "execution_count": 15,
   "metadata": {},
   "outputs": [],
   "source": [
    "# bubble sort\n",
    "def bubble_sort(l):\n",
    "    n = len(l)\n",
    "    for i in range(n):\n",
    "        for j in range(i,n-1):\n",
    "            if l[j] > l[j+1]:\n",
    "                l[j],l[j+1] = l[j+1],l[j]\n",
    "    return l"
   ]
  },
  {
   "cell_type": "code",
   "execution_count": 16,
   "metadata": {},
   "outputs": [],
   "source": [
    "# selection sort\n",
    "def selection_sort(l):\n",
    "    for i in range(len(l) - 1):\n",
    "        # find the index of the smallest at position i\n",
    "        min_index = i\n",
    "        for j in range(i+1, len(l)):\n",
    "            if l[j] < l[i]:\n",
    "                min_index = j\n",
    "\n",
    "        # now swap the item at i with the item at min index\n",
    "        if i != min_index:\n",
    "            l[i],l[min_index] = l[min_index],l[i]\n",
    "\n",
    "    return l\n"
   ]
  },
  {
   "cell_type": "code",
   "execution_count": 17,
   "metadata": {},
   "outputs": [],
   "source": [
    "# merge sort\n",
    "def merge_sort(l):\n",
    "    #print(f'merge sort: {l}')\n",
    "    # break in half until only 1 item left\n",
    "    if len(l) == 1:\n",
    "        return l\n",
    "    \n",
    "    mid = len(l) // 2\n",
    "    left = l[:mid]\n",
    "    right = l[mid:]\n",
    "\n",
    "    return merge(merge_sort(left), merge_sort(right))\n",
    "\n",
    "# merge helper function\n",
    "def merge(l1, l2):\n",
    "    p1 = p2 = 0\n",
    "    l = []\n",
    "    while p1 < len(l1) and p2 < len(l2):\n",
    "        if l1[p1] < l2[p2]:\n",
    "            l.append(l1[p1])\n",
    "            p1 += 1\n",
    "        else:\n",
    "            l.append(l2[p2])\n",
    "            p2 += 1\n",
    "    \n",
    "    if p1 < len(l1):\n",
    "        l.extend(l1[p1:])\n",
    "    elif p2 < len(l2):\n",
    "        l.extend(l2[p2:])\n",
    "\n",
    "    #print(f'merge: {l1}, {l2} -> {l}')\n",
    "    return l"
   ]
  },
  {
   "cell_type": "code",
   "execution_count": 32,
   "metadata": {},
   "outputs": [],
   "source": [
    "def pivot(l, pivot_index, end_index):\n",
    "    swap_index = pivot_index\n",
    "    for i in range(pivot_index + 1, end_index+1):\n",
    "        if l[i] < l[pivot_index]:\n",
    "            swap_index += 1\n",
    "            l[swap_index],l[i] = l[i],l[swap_index]\n",
    "    l[pivot_index],l[swap_index] = l[swap_index],l[pivot_index]\n",
    "\n",
    "    #print(f'pivotted: {l}. Pivot index: {swap_index}')\n",
    "    return swap_index\n",
    "\n",
    "def _quick_sort(l, begin_index, end_index):\n",
    "    if begin_index < end_index:\n",
    "        pivot_index = pivot(l, begin_index, end_index)\n",
    "        _quick_sort(l, begin_index, pivot_index-1)\n",
    "        _quick_sort(l, pivot_index+1,end_index)\n",
    "\n",
    "    return l\n",
    "\n",
    "def quick_sort(l):\n",
    "    return _quick_sort(l, 0, len(l)-1)"
   ]
  },
  {
   "cell_type": "code",
   "execution_count": 28,
   "metadata": {},
   "outputs": [],
   "source": [
    "# generate big list of random number\n",
    "import numpy as np\n",
    "n = 100000\n",
    "l = np.random.randint(low=0,high=n, size=n)\n",
    "l = l.tolist()\n"
   ]
  },
  {
   "cell_type": "code",
   "execution_count": 29,
   "metadata": {},
   "outputs": [],
   "source": [
    "def test_bubble():\n",
    "    result = bubble_sort(l)"
   ]
  },
  {
   "cell_type": "code",
   "execution_count": 30,
   "metadata": {},
   "outputs": [],
   "source": [
    "def test_merge():\n",
    "    result = merge_sort(l)"
   ]
  },
  {
   "cell_type": "code",
   "execution_count": 33,
   "metadata": {},
   "outputs": [],
   "source": [
    "def test_quick():\n",
    "    result = quick_sort(l)"
   ]
  },
  {
   "cell_type": "code",
   "execution_count": 26,
   "metadata": {},
   "outputs": [
    {
     "name": "stdout",
     "output_type": "stream",
     "text": [
      "         6 function calls in 5.481 seconds\n",
      "\n",
      "   Ordered by: standard name\n",
      "\n",
      "   ncalls  tottime  percall  cumtime  percall filename:lineno(function)\n",
      "        1    5.481    5.481    5.481    5.481 <ipython-input-15-4a64e3fca972>:2(bubble_sort)\n",
      "        1    0.000    0.000    5.481    5.481 <ipython-input-22-4351877a87da>:1(test_bubble)\n",
      "        1    0.000    0.000    5.481    5.481 <string>:1(<module>)\n",
      "        1    0.000    0.000    5.481    5.481 {built-in method builtins.exec}\n",
      "        1    0.000    0.000    0.000    0.000 {built-in method builtins.len}\n",
      "        1    0.000    0.000    0.000    0.000 {method 'disable' of '_lsprof.Profiler' objects}\n",
      "\n",
      "\n"
     ]
    }
   ],
   "source": [
    "cProfile.run(\"test_bubble()\")"
   ]
  },
  {
   "cell_type": "code",
   "execution_count": 31,
   "metadata": {},
   "outputs": [
    {
     "name": "stdout",
     "output_type": "stream",
     "text": [
      "         5609004 function calls (5409006 primitive calls) in 1.116 seconds\n",
      "\n",
      "   Ordered by: standard name\n",
      "\n",
      "   ncalls  tottime  percall  cumtime  percall filename:lineno(function)\n",
      "    99999    0.709    0.000    0.984    0.000 <ipython-input-17-4f7c0df3ea01>:15(merge)\n",
      " 199999/1    0.117    0.000    1.115    1.115 <ipython-input-17-4f7c0df3ea01>:2(merge_sort)\n",
      "        1    0.000    0.000    1.116    1.116 <ipython-input-30-4e4c9fbc6041>:1(test_merge)\n",
      "        1    0.000    0.000    1.116    1.116 <string>:1(<module>)\n",
      "        1    0.000    0.000    1.116    1.116 {built-in method builtins.exec}\n",
      "  3672667    0.192    0.000    0.192    0.000 {built-in method builtins.len}\n",
      "  1536336    0.090    0.000    0.090    0.000 {method 'append' of 'list' objects}\n",
      "        1    0.000    0.000    0.000    0.000 {method 'disable' of '_lsprof.Profiler' objects}\n",
      "    99999    0.008    0.000    0.008    0.000 {method 'extend' of 'list' objects}\n",
      "\n",
      "\n"
     ]
    }
   ],
   "source": [
    "cProfile.run(\"test_merge()\")"
   ]
  },
  {
   "cell_type": "code",
   "execution_count": 34,
   "metadata": {},
   "outputs": [
    {
     "name": "stdout",
     "output_type": "stream",
     "text": [
      "         203551 function calls (67855 primitive calls) in 0.338 seconds\n",
      "\n",
      "   Ordered by: standard name\n",
      "\n",
      "   ncalls  tottime  percall  cumtime  percall filename:lineno(function)\n",
      "    67848    0.296    0.000    0.296    0.000 <ipython-input-32-83db4b9892e8>:1(pivot)\n",
      " 135697/1    0.042    0.000    0.338    0.338 <ipython-input-32-83db4b9892e8>:12(_quick_sort)\n",
      "        1    0.000    0.000    0.338    0.338 <ipython-input-32-83db4b9892e8>:20(quick_sort)\n",
      "        1    0.000    0.000    0.338    0.338 <ipython-input-33-93ce411a9d70>:1(test_quick)\n",
      "        1    0.000    0.000    0.338    0.338 <string>:1(<module>)\n",
      "        1    0.000    0.000    0.338    0.338 {built-in method builtins.exec}\n",
      "        1    0.000    0.000    0.000    0.000 {built-in method builtins.len}\n",
      "        1    0.000    0.000    0.000    0.000 {method 'disable' of '_lsprof.Profiler' objects}\n",
      "\n",
      "\n"
     ]
    }
   ],
   "source": [
    "cProfile.run(\"test_quick()\")"
   ]
  },
  {
   "cell_type": "code",
   "execution_count": null,
   "metadata": {},
   "outputs": [],
   "source": []
  }
 ],
 "metadata": {
  "interpreter": {
   "hash": "2e16eb9cf582685a2069fbd1d69b094b0e503fcb31a60a6324e750c4274a81af"
  },
  "kernelspec": {
   "display_name": "Python 3.7.4 ('base')",
   "language": "python",
   "name": "python3"
  },
  "language_info": {
   "codemirror_mode": {
    "name": "ipython",
    "version": 3
   },
   "file_extension": ".py",
   "mimetype": "text/x-python",
   "name": "python",
   "nbconvert_exporter": "python",
   "pygments_lexer": "ipython3",
   "version": "3.7.4"
  },
  "orig_nbformat": 4
 },
 "nbformat": 4,
 "nbformat_minor": 2
}
