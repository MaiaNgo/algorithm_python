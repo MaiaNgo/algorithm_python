{
 "cells": [
  {
   "cell_type": "code",
   "execution_count": 4,
   "metadata": {},
   "outputs": [],
   "source": [
    "# merge sort\n",
    "# the idea is to if we have two sorted list, we can quickly combine them into one sorted list\n",
    "\n",
    "l1 = [1,3,5,7,9]\n",
    "l2 = [2,6,10]"
   ]
  },
  {
   "cell_type": "code",
   "execution_count": 22,
   "metadata": {},
   "outputs": [],
   "source": [
    "# merge helper function\n",
    "def merge(l1, l2):\n",
    "    p1 = p2 = 0\n",
    "    l = []\n",
    "    while p1 < len(l1) and p2 < len(l2):\n",
    "        if l1[p1] < l2[p2]:\n",
    "            l.append(l1[p1])\n",
    "            p1 += 1\n",
    "        else:\n",
    "            l.append(l2[p2])\n",
    "            p2 += 1\n",
    "    \n",
    "    if p1 < len(l1):\n",
    "        l.extend(l1[p1:])\n",
    "    elif p2 < len(l2):\n",
    "        l.extend(l2[p2:])\n",
    "\n",
    "    print(f'merge: {l1}, {l2} -> {l}')\n",
    "    return l"
   ]
  },
  {
   "cell_type": "code",
   "execution_count": 23,
   "metadata": {},
   "outputs": [
    {
     "name": "stdout",
     "output_type": "stream",
     "text": [
      "merge: [1, 3, 5, 7, 9], [2, 6, 10] -> [1, 2, 3, 5, 6, 7, 9, 10]\n"
     ]
    },
    {
     "data": {
      "text/plain": [
       "[1, 2, 3, 5, 6, 7, 9, 10]"
      ]
     },
     "execution_count": 23,
     "metadata": {},
     "output_type": "execute_result"
    }
   ],
   "source": [
    "merge(l1,l2)"
   ]
  },
  {
   "cell_type": "code",
   "execution_count": 24,
   "metadata": {},
   "outputs": [],
   "source": [
    "# merge sort\n",
    "def merge_sort(l):\n",
    "    print(f'merge sort: {l}')\n",
    "    # break in half until only 1 item left\n",
    "    if len(l) == 1:\n",
    "        return l\n",
    "    \n",
    "    mid = len(l) // 2\n",
    "    left = l[:mid]\n",
    "    right = l[mid:]\n",
    "\n",
    "    return merge(merge_sort(left), merge_sort(right))"
   ]
  },
  {
   "cell_type": "code",
   "execution_count": 25,
   "metadata": {},
   "outputs": [
    {
     "name": "stdout",
     "output_type": "stream",
     "text": [
      "merge sort: [1, 3, 5, 4, 2, 6, 8, 7, 9]\n",
      "merge sort: [1, 3, 5, 4]\n",
      "merge sort: [1, 3]\n",
      "merge sort: [1]\n",
      "merge sort: [3]\n",
      "merge: [1], [3] -> [1, 3]\n",
      "merge sort: [5, 4]\n",
      "merge sort: [5]\n",
      "merge sort: [4]\n",
      "merge: [5], [4] -> [4, 5]\n",
      "merge: [1, 3], [4, 5] -> [1, 3, 4, 5]\n",
      "merge sort: [2, 6, 8, 7, 9]\n",
      "merge sort: [2, 6]\n",
      "merge sort: [2]\n",
      "merge sort: [6]\n",
      "merge: [2], [6] -> [2, 6]\n",
      "merge sort: [8, 7, 9]\n",
      "merge sort: [8]\n",
      "merge sort: [7, 9]\n",
      "merge sort: [7]\n",
      "merge sort: [9]\n",
      "merge: [7], [9] -> [7, 9]\n",
      "merge: [8], [7, 9] -> [7, 8, 9]\n",
      "merge: [2, 6], [7, 8, 9] -> [2, 6, 7, 8, 9]\n",
      "merge: [1, 3, 4, 5], [2, 6, 7, 8, 9] -> [1, 2, 3, 4, 5, 6, 7, 8, 9]\n"
     ]
    },
    {
     "data": {
      "text/plain": [
       "[1, 2, 3, 4, 5, 6, 7, 8, 9]"
      ]
     },
     "execution_count": 25,
     "metadata": {},
     "output_type": "execute_result"
    }
   ],
   "source": [
    "l = [1,3,5,4,2,6,8,7,9]\n",
    "merge_sort(l)"
   ]
  },
  {
   "cell_type": "code",
   "execution_count": null,
   "metadata": {},
   "outputs": [],
   "source": []
  }
 ],
 "metadata": {
  "interpreter": {
   "hash": "2e16eb9cf582685a2069fbd1d69b094b0e503fcb31a60a6324e750c4274a81af"
  },
  "kernelspec": {
   "display_name": "Python 3.7.4 ('base')",
   "language": "python",
   "name": "python3"
  },
  "language_info": {
   "codemirror_mode": {
    "name": "ipython",
    "version": 3
   },
   "file_extension": ".py",
   "mimetype": "text/x-python",
   "name": "python",
   "nbconvert_exporter": "python",
   "pygments_lexer": "ipython3",
   "version": "3.7.4"
  },
  "orig_nbformat": 4
 },
 "nbformat": 4,
 "nbformat_minor": 2
}
