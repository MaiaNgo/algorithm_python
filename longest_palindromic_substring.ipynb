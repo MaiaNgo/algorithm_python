{
 "cells": [
  {
   "cell_type": "code",
   "execution_count": 22,
   "metadata": {},
   "outputs": [],
   "source": [
    "# the idea is we find all longest substrings and check them if any of them is palindromic\n",
    "s = 'babad'\n",
    "# - > 'bab or 'aba'"
   ]
  },
  {
   "cell_type": "code",
   "execution_count": 54,
   "metadata": {},
   "outputs": [],
   "source": [
    "# brute force - O(n^3)\n",
    "def longest_palindromic(s):\n",
    "    longest = ''\n",
    "    n = len(s)\n",
    "    for i in range(n):\n",
    "        for j in range(i+1, n):\n",
    "            ss = s[i:j]\n",
    "            if ss == ss[::-1] and len(ss) > len(longest):\n",
    "                longest = ss\n",
    "    return longest"
   ]
  },
  {
   "cell_type": "code",
   "execution_count": 55,
   "metadata": {},
   "outputs": [
    {
     "data": {
      "text/plain": [
       "'ababa'"
      ]
     },
     "execution_count": 55,
     "metadata": {},
     "output_type": "execute_result"
    }
   ],
   "source": [
    "longest_palindromic('ababaad')"
   ]
  },
  {
   "cell_type": "code",
   "execution_count": 82,
   "metadata": {},
   "outputs": [],
   "source": [
    "def longestPalindrome(s: str) -> str:\n",
    "    n = len(s)\n",
    "    longest = ''\n",
    "    for i in range(n):\n",
    "        # char at index i is the center - odd\n",
    "        ss = findPalindromeAt(s, i, i)\n",
    "        if(len(ss) > len(longest)):\n",
    "            longest = ss\n",
    "        \n",
    "        # between chars at i and i+1 is the center - even\n",
    "        ss = findPalindromeAt(s, i, i+1)\n",
    "        if(len(ss) > len(longest)):\n",
    "            longest = ss\n",
    "\n",
    "    return longest\n",
    "\n",
    "def findPalindromeAt(s, i1, i2):\n",
    "    #print(f'in: {i1},{i2}')\n",
    "    while i1 >= 0 and i2 < len(s) and s[i1] == s[i2]:\n",
    "        i1 -= 1\n",
    "        i2 += 1\n",
    "    #print(f'out: {s[i1+1:i2]}')\n",
    "    return s[i1+1:i2]"
   ]
  },
  {
   "cell_type": "code",
   "execution_count": 83,
   "metadata": {},
   "outputs": [
    {
     "data": {
      "text/plain": [
       "'ababa'"
      ]
     },
     "execution_count": 83,
     "metadata": {},
     "output_type": "execute_result"
    }
   ],
   "source": [
    "longestPalindrome('abababd')"
   ]
  },
  {
   "cell_type": "code",
   "execution_count": 89,
   "metadata": {},
   "outputs": [],
   "source": [
    "# same solution, more concise (a bit more confusing)\n",
    "def longestPalindrome(s: str) -> str:\n",
    "    longest = ''\n",
    "    for i in range(len(s)):\n",
    "        for j in range(2):\n",
    "            # chars at index i and i+j is the center\n",
    "            ss = findPalindromeAt(s, i, i + j)\n",
    "            if(len(ss) > len(longest)):\n",
    "                longest = ss\n",
    "    return longest\n",
    "\n",
    "def findPalindromeAt(s, i1, i2):\n",
    "    #print(f'in: {i1},{i2}')\n",
    "    while i1 >= 0 and i2 < len(s) and s[i1] == s[i2]:\n",
    "        i1 -= 1\n",
    "        i2 += 1\n",
    "    #print(f'out: {s[i1+1:i2]}')\n",
    "    return s[i1+1:i2]"
   ]
  },
  {
   "cell_type": "code",
   "execution_count": 90,
   "metadata": {},
   "outputs": [
    {
     "data": {
      "text/plain": [
       "'ababababababa'"
      ]
     },
     "execution_count": 90,
     "metadata": {},
     "output_type": "execute_result"
    }
   ],
   "source": [
    "longestPalindrome('ababababababab')"
   ]
  },
  {
   "cell_type": "code",
   "execution_count": null,
   "metadata": {},
   "outputs": [],
   "source": []
  }
 ],
 "metadata": {
  "interpreter": {
   "hash": "2e16eb9cf582685a2069fbd1d69b094b0e503fcb31a60a6324e750c4274a81af"
  },
  "kernelspec": {
   "display_name": "Python 3.7.4 ('base')",
   "language": "python",
   "name": "python3"
  },
  "language_info": {
   "codemirror_mode": {
    "name": "ipython",
    "version": 3
   },
   "file_extension": ".py",
   "mimetype": "text/x-python",
   "name": "python",
   "nbconvert_exporter": "python",
   "pygments_lexer": "ipython3",
   "version": "3.7.4"
  },
  "orig_nbformat": 4
 },
 "nbformat": 4,
 "nbformat_minor": 2
}
