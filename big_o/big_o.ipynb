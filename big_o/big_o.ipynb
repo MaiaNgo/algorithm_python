{
 "cells": [
  {
   "cell_type": "code",
   "execution_count": 1,
   "metadata": {},
   "outputs": [],
   "source": [
    "# Big-O is a mathematical way to measure the efficency of code execution\n",
    "# Omega: is the best case scenario, e.g. find an element from a list by iterating through it, and it is the first element\n",
    "# Theta: is the average case scenario, e.g the middle element\n",
    "# Omnicron: is the worst case scenaro, e.g last element\n",
    "\n",
    "# We use Omnicron or Big-O as the measurement to measure how efficient any code executed"
   ]
  },
  {
   "cell_type": "code",
   "execution_count": 3,
   "metadata": {},
   "outputs": [],
   "source": [
    "# let's look at a simple function\n",
    "def print_items(n):\n",
    "    for i in range(n):\n",
    "        print(i)"
   ]
  },
  {
   "cell_type": "code",
   "execution_count": 5,
   "metadata": {},
   "outputs": [
    {
     "name": "stdout",
     "output_type": "stream",
     "text": [
      "0\n",
      "1\n",
      "2\n",
      "3\n",
      "4\n",
      "5\n",
      "6\n",
      "7\n",
      "8\n",
      "9\n"
     ]
    }
   ],
   "source": [
    "# we call the functions with n = 10\n",
    "print_items(10)\n",
    "\n",
    "# then, O(n) is the number of operations executed for n number of element\n",
    "# In our function above the O(n) is a linear function of n"
   ]
  },
  {
   "cell_type": "code",
   "execution_count": 19,
   "metadata": {},
   "outputs": [],
   "source": [
    "import numpy as np\n",
    "import pandas as pd\n",
    "import matplotlib.pyplot as plt\n",
    "import seaborn as sns"
   ]
  },
  {
   "cell_type": "code",
   "execution_count": 9,
   "metadata": {},
   "outputs": [
    {
     "data": {
      "text/plain": [
       "<matplotlib.axes._subplots.AxesSubplot at 0x7fb2fb002c50>"
      ]
     },
     "execution_count": 9,
     "metadata": {},
     "output_type": "execute_result"
    },
    {
     "data": {
      "image/png": "[encoded data removed]",
      "text/plain": [
       "<Figure size 432x288 with 1 Axes>"
      ]
     },
     "metadata": {
      "needs_background": "light"
     },
     "output_type": "display_data"
    }
   ],
   "source": [
    "n = 10\n",
    "x = range(10)\n",
    "O_n = y = [1*i for i in x]\n",
    "\n",
    "sns.lineplot(x, y)\n"
   ]
  },
  {
   "cell_type": "code",
   "execution_count": 10,
   "metadata": {},
   "outputs": [
    {
     "name": "stdout",
     "output_type": "stream",
     "text": [
      "0\n",
      "1\n",
      "2\n",
      "3\n",
      "4\n",
      "5\n",
      "6\n",
      "7\n",
      "8\n",
      "9\n",
      "0\n",
      "1\n",
      "2\n",
      "3\n",
      "4\n",
      "5\n",
      "6\n",
      "7\n",
      "8\n",
      "9\n"
     ]
    }
   ],
   "source": [
    "# now we have a another fucntion\n",
    "def print_items(n):\n",
    "    for i in range(n):\n",
    "        print(i)\n",
    "    for j in range(n):\n",
    "        print(j)\n",
    "\n",
    "n = 10\n",
    "print_items(n)    "
   ]
  },
  {
   "cell_type": "code",
   "execution_count": 11,
   "metadata": {},
   "outputs": [
    {
     "data": {
      "text/plain": [
       "<matplotlib.axes._subplots.AxesSubplot at 0x7fb2fb11d7d0>"
      ]
     },
     "execution_count": 11,
     "metadata": {},
     "output_type": "execute_result"
    },
    {
     "data": {
      "image/png": "[encoded data removed]",
      "text/plain": [
       "<Figure size 432x288 with 1 Axes>"
      ]
     },
     "metadata": {
      "needs_background": "light"
     },
     "output_type": "display_data"
    }
   ],
   "source": [
    "# Now, with this new function our O(n) is double\n",
    "x = range(n)\n",
    "O_n = y = [2*i for i in x]\n",
    "\n",
    "sns.lineplot(x, y)\n"
   ]
  },
  {
   "cell_type": "code",
   "execution_count": 15,
   "metadata": {},
   "outputs": [
    {
     "name": "stdout",
     "output_type": "stream",
     "text": [
      "(0,0) \n",
      "(0,1) \n",
      "(0,2) \n",
      "(0,3) \n",
      "(0,4) \n",
      "(1,0) \n",
      "(1,1) \n",
      "(1,2) \n",
      "(1,3) \n",
      "(1,4) \n",
      "(2,0) \n",
      "(2,1) \n",
      "(2,2) \n",
      "(2,3) \n",
      "(2,4) \n",
      "(3,0) \n",
      "(3,1) \n",
      "(3,2) \n",
      "(3,3) \n",
      "(3,4) \n",
      "(4,0) \n",
      "(4,1) \n",
      "(4,2) \n",
      "(4,3) \n",
      "(4,4) \n"
     ]
    }
   ],
   "source": [
    "# let's look at another code\n",
    "def print_items(n):\n",
    "    for i in range(n):\n",
    "        for j in range(n):\n",
    "            print(f'({i},{j}) ')\n",
    "    \n",
    "\n",
    "n = 5\n",
    "print_items(n)    "
   ]
  },
  {
   "cell_type": "code",
   "execution_count": 16,
   "metadata": {},
   "outputs": [
    {
     "data": {
      "text/plain": [
       "<matplotlib.axes._subplots.AxesSubplot at 0x7fb2fb407110>"
      ]
     },
     "execution_count": 16,
     "metadata": {},
     "output_type": "execute_result"
    },
    {
     "data": {
      "image/png": "[encoded data removed]",
      "text/plain": [
       "<Figure size 432x288 with 1 Axes>"
      ]
     },
     "metadata": {
      "needs_background": "light"
     },
     "output_type": "display_data"
    }
   ],
   "source": [
    "# with this nested loop our O(n) is square of n\n",
    "# We say it is O(n^2)\n",
    "x = range(n)\n",
    "O_n = y = [i**2 for i in x]\n",
    "\n",
    "sns.lineplot(x, y)"
   ]
  },
  {
   "cell_type": "code",
   "execution_count": 29,
   "metadata": {},
   "outputs": [
    {
     "data": {
      "text/plain": [
       "<matplotlib.axes._subplots.AxesSubplot at 0x7fb2fb9e4e90>"
      ]
     },
     "execution_count": 29,
     "metadata": {},
     "output_type": "execute_result"
    },
    {
     "data": {
      "image/png": "[encoded data removed]",
      "text/plain": [
       "<Figure size 432x288 with 1 Axes>"
      ]
     },
     "metadata": {
      "needs_background": "light"
     },
     "output_type": "display_data"
    }
   ],
   "source": [
    "# Of course, we know that O(n) is much more efficient than O(n^2)\n",
    "n = 10\n",
    "x = range(n)\n",
    "y1 = O_n = [i for i in x]\n",
    "y2 = O_nn = [i**2 for i in x]\n",
    "data = pd.DataFrame({'x': x, 'O_n': O_n, 'O_nn': O_nn})\n",
    "data = pd.melt(data, ['x'], var_name='O_type',value_name='O_value')\n",
    "#data\n",
    "sns.lineplot('x', 'O_value', 'O_type', data=data)"
   ]
  },
  {
   "cell_type": "code",
   "execution_count": 30,
   "metadata": {},
   "outputs": [],
   "source": [
    "# O(1) is a constant value of O no matter how much we change n\n",
    "# o(log n) - binary search"
   ]
  },
  {
   "cell_type": "code",
   "execution_count": 31,
   "metadata": {},
   "outputs": [],
   "source": [
    "# Wrap-up\n",
    "# O(n^2) : a loop inside a loop - nested loop (3 levels nested loop will be O(n^3))\n",
    "# O(n log n): sorting algorithm\n",
    "# O(n): proportional - one single loop\n",
    "# O(log n): devide and conquer - e.g. binary search\n",
    "# O(1): constant time"
   ]
  },
  {
   "cell_type": "code",
   "execution_count": null,
   "metadata": {},
   "outputs": [],
   "source": []
  }
 ],
 "metadata": {
  "interpreter": {
   "hash": "2e16eb9cf582685a2069fbd1d69b094b0e503fcb31a60a6324e750c4274a81af"
  },
  "kernelspec": {
   "display_name": "Python 3.7.4 ('base')",
   "language": "python",
   "name": "python3"
  },
  "language_info": {
   "codemirror_mode": {
    "name": "ipython",
    "version": 3
   },
   "file_extension": ".py",
   "mimetype": "text/x-python",
   "name": "python",
   "nbconvert_exporter": "python",
   "pygments_lexer": "ipython3",
   "version": "3.7.4"
  },
  "orig_nbformat": 4
 },
 "nbformat": 4,
 "nbformat_minor": 2
}
