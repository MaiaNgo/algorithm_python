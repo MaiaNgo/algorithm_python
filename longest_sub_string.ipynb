{
 "cells": [
  {
   "cell_type": "markdown",
   "metadata": {},
   "source": [
    "Given a string s, find the length of the longest substring without repeating characters.\n",
    "\n",
    " \n",
    "\n",
    "Example 1:\n",
    "\n",
    "Input: s = \"abcabcbb\"\n",
    "Output: 3\n",
    "Explanation: The answer is \"abc\", with the length of 3.\n",
    "Example 2:\n",
    "\n",
    "Input: s = \"bbbbb\"\n",
    "Output: 1\n",
    "Explanation: The answer is \"b\", with the length of 1.\n",
    "Example 3:\n",
    "\n",
    "Input: s = \"pwwkew\"\n",
    "Output: 3\n",
    "Explanation: The answer is \"wke\", with the length of 3.\n",
    "Notice that the answer must be a substring, \"pwke\" is a subsequence and not a substring.\n",
    " \n",
    "\n",
    "Constraints:\n",
    "\n",
    "0 <= s.length <= 5 * 104\n",
    "s consists of English letters, digits, symbols and spaces."
   ]
  },
  {
   "cell_type": "code",
   "execution_count": 7,
   "metadata": {},
   "outputs": [],
   "source": [
    "s = 'pwwkew'"
   ]
  },
  {
   "cell_type": "code",
   "execution_count": 38,
   "metadata": {},
   "outputs": [],
   "source": [
    "# The idea is to use two pointers: left and right, both start at the begining\n",
    "# the right will move char by char to the end of the string\n",
    "# each char we come to we store the last index or position where we found it\n",
    "# if we find a char we already met, we move the left pointer to the index after the index last time we found it\n",
    "# every steps we go, we store the max len of the substring from left pointer to right pointer\n",
    "def lengthOfLongestSubstring( s: str) -> int:\n",
    "        n = len(s)\n",
    "        maxLen = 0\n",
    "        \n",
    "        # store the last index of any char we traverse through\n",
    "        mp = {}\n",
    "\n",
    "        left = 0\n",
    "        for right in range(n):\n",
    "            # if the current char is found\n",
    "            # move the lef pointer to the index afer the index last time it was found\n",
    "            if s[right] in mp:\n",
    "                left = max(mp[s[right]] + 1, left)\n",
    "\n",
    "            # store the index that the current char last found\n",
    "            mp[s[right]] = right\n",
    "\n",
    "            # store the max len\n",
    "            maxLen = max(maxLen, right - left + 1)\n",
    "            \n",
    "        return maxLen"
   ]
  },
  {
   "cell_type": "code",
   "execution_count": 39,
   "metadata": {},
   "outputs": [
    {
     "data": {
      "text/plain": [
       "3"
      ]
     },
     "execution_count": 39,
     "metadata": {},
     "output_type": "execute_result"
    }
   ],
   "source": [
    "lengthOfLongestSubstring('abcabcbb')"
   ]
  },
  {
   "cell_type": "code",
   "execution_count": 40,
   "metadata": {},
   "outputs": [],
   "source": [
    "# The idea is to find all substring that not repeating characters\n",
    "# everytime we finds one we campare if it is longer than the current longest, then we replace it\n",
    "# we walk through the string, char by char, if the current char is not in the current substring, we add it to the substring\n",
    "# if we find it in the substring, we split the substring in half where we find it, and continue to go from there to the end of the string\n",
    "def lengthOfLongestSubstring(s: 'str') -> 'int':\n",
    "        current_substring = ''\n",
    "        longest_substring = ''\n",
    "        for c in s:\n",
    "            if c not in current_substring:\n",
    "                current_substring += c\n",
    "            else:\n",
    "                if len(longest_substring) < len(current_substring):\n",
    "                    longest_substring = current_substring\n",
    "\n",
    "                # split at the current char and take the second part to move forward\n",
    "                current_substring = current_substring.split(c)[-1] + c\n",
    "\n",
    "        return max(len(longest_substring), len(current_substring))"
   ]
  },
  {
   "cell_type": "code",
   "execution_count": 27,
   "metadata": {},
   "outputs": [
    {
     "data": {
      "text/plain": [
       "3"
      ]
     },
     "execution_count": 27,
     "metadata": {},
     "output_type": "execute_result"
    }
   ],
   "source": [
    "lengthOfLongestSubstring('abcabcbb')"
   ]
  },
  {
   "cell_type": "code",
   "execution_count": 19,
   "metadata": {},
   "outputs": [
    {
     "data": {
      "text/plain": [
       "'bca'"
      ]
     },
     "execution_count": 19,
     "metadata": {},
     "output_type": "execute_result"
    }
   ],
   "source": [
    "s = 'abc'.split('a')[-1] + 'a'\n",
    "s"
   ]
  },
  {
   "cell_type": "code",
   "execution_count": null,
   "metadata": {},
   "outputs": [],
   "source": []
  }
 ],
 "metadata": {
  "interpreter": {
   "hash": "2e16eb9cf582685a2069fbd1d69b094b0e503fcb31a60a6324e750c4274a81af"
  },
  "kernelspec": {
   "display_name": "Python 3.7.4 ('base')",
   "language": "python",
   "name": "python3"
  },
  "language_info": {
   "codemirror_mode": {
    "name": "ipython",
    "version": 3
   },
   "file_extension": ".py",
   "mimetype": "text/x-python",
   "name": "python",
   "nbconvert_exporter": "python",
   "pygments_lexer": "ipython3",
   "version": "3.7.4"
  },
  "orig_nbformat": 4
 },
 "nbformat": 4,
 "nbformat_minor": 2
}
