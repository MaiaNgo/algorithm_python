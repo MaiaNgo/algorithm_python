{
 "cells": [
  {
   "cell_type": "code",
   "execution_count": 3,
   "metadata": {},
   "outputs": [
    {
     "name": "stdout",
     "output_type": "stream",
     "text": [
      "12345 54321\n"
     ]
    }
   ],
   "source": [
    "# 12345 -> 54321\n",
    "# it is easy toconvert to string and revert\n",
    "n = 12345\n",
    "r =  int(str(n)[::-1])\n",
    "print(n,r)"
   ]
  },
  {
   "cell_type": "code",
   "execution_count": 5,
   "metadata": {},
   "outputs": [
    {
     "name": "stdout",
     "output_type": "stream",
     "text": [
      "12345 54321\n"
     ]
    }
   ],
   "source": [
    "# whatif it's not allowed to convert to string\n",
    "n = 12345\n",
    "r = 0\n",
    "x = n\n",
    "while x > 0:\n",
    "    r = r * 10 + x % 10\n",
    "    x //= 10\n",
    "\n",
    "print(n,r)"
   ]
  },
  {
   "cell_type": "code",
   "execution_count": 8,
   "metadata": {},
   "outputs": [
    {
     "name": "stdout",
     "output_type": "stream",
     "text": [
      "54321 54 123\n"
     ]
    }
   ],
   "source": [
    "# how about revert a half of a number\n",
    "# 1234 -> 12,43\n",
    "# 12345 -> 12, 543\n",
    "n = 54321\n",
    "r = 0\n",
    "x = n\n",
    "while x > r:\n",
    "    r = r * 10 + x % 10\n",
    "    x //= 10\n",
    "\n",
    "print(n,x,r)"
   ]
  },
  {
   "cell_type": "code",
   "execution_count": null,
   "metadata": {},
   "outputs": [],
   "source": []
  }
 ],
 "metadata": {
  "interpreter": {
   "hash": "2e16eb9cf582685a2069fbd1d69b094b0e503fcb31a60a6324e750c4274a81af"
  },
  "kernelspec": {
   "display_name": "Python 3.7.4 ('base')",
   "language": "python",
   "name": "python3"
  },
  "language_info": {
   "codemirror_mode": {
    "name": "ipython",
    "version": 3
   },
   "file_extension": ".py",
   "mimetype": "text/x-python",
   "name": "python",
   "nbconvert_exporter": "python",
   "pygments_lexer": "ipython3",
   "version": "3.7.4"
  },
  "orig_nbformat": 4
 },
 "nbformat": 4,
 "nbformat_minor": 2
}
