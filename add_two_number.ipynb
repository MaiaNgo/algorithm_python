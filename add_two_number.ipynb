{
 "cells": [
  {
   "cell_type": "markdown",
   "metadata": {},
   "source": [
    "You are given two non-empty linked lists representing two non-negative integers. The digits are stored in reverse order, and each of their nodes contains a single digit. Add the two numbers and return the sum as a linked list.\n",
    "\n",
    "You may assume the two numbers do not contain any leading zero, except the number 0 itself.\n",
    "\n",
    " \n",
    "\n",
    "Example 1:\n",
    "\n",
    "\n",
    "Input: l1 = [2,4,3], l2 = [5,6,4]\n",
    "Output: [7,0,8]\n",
    "Explanation: 342 + 465 = 807.\n",
    "Example 2:\n",
    "\n",
    "Input: l1 = [0], l2 = [0]\n",
    "Output: [0]\n",
    "Example 3:\n",
    "\n",
    "Input: l1 = [9,9,9,9,9,9,9], l2 = [9,9,9,9]\n",
    "Output: [8,9,9,9,0,0,0,1]\n",
    " \n",
    "\n",
    "Constraints:\n",
    "\n",
    "The number of nodes in each linked list is in the range [1, 100].\n",
    "0 <= Node.val <= 9\n",
    "It is guaranteed that the list represents a number that does not have leading zeros."
   ]
  },
  {
   "cell_type": "code",
   "execution_count": 56,
   "metadata": {},
   "outputs": [],
   "source": [
    "class ListNode:\n",
    "    def __init__(self, val=0, next=None):\n",
    "        self.val = val\n",
    "        self.next = next\n",
    "\n",
    "def to_list(l: ListNode):\n",
    "    a = []\n",
    "    while l != None:\n",
    "        a.append(l.val)\n",
    "        l = l.next\n",
    "    return a"
   ]
  },
  {
   "cell_type": "code",
   "execution_count": 81,
   "metadata": {},
   "outputs": [],
   "source": [
    "# 321\n",
    "l1 = n1 = ListNode(9)\n",
    "n1.next = n2 = ListNode(9)\n",
    "n2.next = ListNode(9)\n",
    "\n",
    "# 7654\n",
    "l2 = n1 = ListNode(7)\n",
    "n1.next = n2 = ListNode(8)\n",
    "n2.next = n3 = ListNode(9)\n",
    "#n3.next = ListNode(7)\n",
    "\n",
    "def addTwoNumbers(l1, l2):\n",
    "    # result\n",
    "    l3 = ListNode()\n",
    "    l3n = l3\n",
    "    carry = 0\n",
    "    while l1 != None or l2 != None:\n",
    "        l1v = 0 if l1 == None else l1.val\n",
    "        l2v = 0 if l2 == None else l2.val\n",
    "        sum = carry + l1v + l2v\n",
    "        carry = sum // 10\n",
    "        value = sum % 10\n",
    "\n",
    "        l3n.val = value\n",
    "        \n",
    "        if l1 != None:\n",
    "            l1 = l1.next\n",
    "        if l2 != None:\n",
    "            l2 = l2.next\n",
    "\n",
    "        if l1 == None and l2 == None:\n",
    "            if carry > 0:\n",
    "                l3n.next = ListNode(carry)\n",
    "            else:\n",
    "                l3n.next = None\n",
    "        else:\n",
    "            l3n.next = ListNode()\n",
    "            l3n = l3n.next\n",
    "    \n",
    "    return l3\n",
    "\n",
    "l3 = addTwoNumbers(l1,l2)\n"
   ]
  },
  {
   "cell_type": "code",
   "execution_count": 69,
   "metadata": {},
   "outputs": [
    {
     "data": {
      "text/plain": [
       "[9, 9, 9]"
      ]
     },
     "execution_count": 69,
     "metadata": {},
     "output_type": "execute_result"
    }
   ],
   "source": [
    "to_list(l1)"
   ]
  },
  {
   "cell_type": "code",
   "execution_count": 70,
   "metadata": {},
   "outputs": [
    {
     "data": {
      "text/plain": [
       "[7, 8, 9]"
      ]
     },
     "execution_count": 70,
     "metadata": {},
     "output_type": "execute_result"
    }
   ],
   "source": [
    "to_list(l2)"
   ]
  },
  {
   "cell_type": "code",
   "execution_count": 82,
   "metadata": {},
   "outputs": [
    {
     "data": {
      "text/plain": [
       "[6, 8, 9, 1]"
      ]
     },
     "execution_count": 82,
     "metadata": {},
     "output_type": "execute_result"
    }
   ],
   "source": [
    "to_list(l3)"
   ]
  },
  {
   "cell_type": "code",
   "execution_count": 75,
   "metadata": {},
   "outputs": [],
   "source": [
    "def addTwoNumbers(l1, l2):\n",
    "    result = ListNode(0)\n",
    "    result_tail = result\n",
    "    carry = 0\n",
    "            \n",
    "    while l1 or l2 or carry:            \n",
    "        val1  = (l1.val if l1 else 0)\n",
    "        val2  = (l2.val if l2 else 0)\n",
    "        carry, out = divmod(val1+val2 + carry, 10)    \n",
    "                    \n",
    "        result_tail.next = ListNode(out)\n",
    "        result_tail = result_tail.next                      \n",
    "        \n",
    "        l1 = (l1.next if l1 else None)\n",
    "        l2 = (l2.next if l2 else None)\n",
    "            \n",
    "    return result.next\n",
    "\n",
    "    # notice that this throws away the first node of result list"
   ]
  },
  {
   "cell_type": "code",
   "execution_count": 73,
   "metadata": {},
   "outputs": [],
   "source": [
    "l3 = addTwoNumbers(l1, l2)"
   ]
  },
  {
   "cell_type": "code",
   "execution_count": 74,
   "metadata": {},
   "outputs": [
    {
     "data": {
      "text/plain": [
       "[6, 8, 9, 1]"
      ]
     },
     "execution_count": 74,
     "metadata": {},
     "output_type": "execute_result"
    }
   ],
   "source": [
    "to_list(l3)"
   ]
  },
  {
   "cell_type": "code",
   "execution_count": 77,
   "metadata": {},
   "outputs": [],
   "source": [
    "# another implementation\n",
    "def add_two_numbers(left: ListNode, right: ListNode) -> ListNode:\n",
    "    head = ListNode(0)\n",
    "    current = head\n",
    "    sum = 0\n",
    "    while left or right:\n",
    "        print(\"adding: \", left.val, right.val)\n",
    "        sum //= 10\n",
    "        if left:\n",
    "            sum += left.val\n",
    "            left = left.next\n",
    "        if right:\n",
    "            sum += right.val\n",
    "            right = right.next\n",
    "        current.next = ListNode(sum % 10)\n",
    "        current = current.next\n",
    "    if sum // 10 == 1:\n",
    "        current.next = ListNode(1)\n",
    "    return head.next"
   ]
  },
  {
   "cell_type": "code",
   "execution_count": 78,
   "metadata": {},
   "outputs": [],
   "source": [
    "l3 = addTwoNumbers(l1, l2)"
   ]
  },
  {
   "cell_type": "code",
   "execution_count": 79,
   "metadata": {},
   "outputs": [
    {
     "data": {
      "text/plain": [
       "[6, 8, 9, 1]"
      ]
     },
     "execution_count": 79,
     "metadata": {},
     "output_type": "execute_result"
    }
   ],
   "source": [
    "to_list(l3)"
   ]
  },
  {
   "cell_type": "code",
   "execution_count": null,
   "metadata": {},
   "outputs": [],
   "source": []
  }
 ],
 "metadata": {
  "interpreter": {
   "hash": "2e16eb9cf582685a2069fbd1d69b094b0e503fcb31a60a6324e750c4274a81af"
  },
  "kernelspec": {
   "display_name": "Python 3.7.4 ('base')",
   "language": "python",
   "name": "python3"
  },
  "language_info": {
   "codemirror_mode": {
    "name": "ipython",
    "version": 3
   },
   "file_extension": ".py",
   "mimetype": "text/x-python",
   "name": "python",
   "nbconvert_exporter": "python",
   "pygments_lexer": "ipython3",
   "version": "3.7.4"
  },
  "orig_nbformat": 4
 },
 "nbformat": 4,
 "nbformat_minor": 2
}
