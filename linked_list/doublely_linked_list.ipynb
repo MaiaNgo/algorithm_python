{
 "cells": [
  {
   "cell_type": "code",
   "execution_count": 2,
   "metadata": {},
   "outputs": [],
   "source": [
    "# Node\n",
    "class Node():\n",
    "    def __init__(self, value):\n",
    "        self.value = value\n",
    "        self.next = None\n",
    "        self.prev = None"
   ]
  },
  {
   "cell_type": "code",
   "execution_count": 3,
   "metadata": {},
   "outputs": [],
   "source": [
    "# DoublyLinkedList\n",
    "class DoublyLinkedList():\n",
    "    def __init__(self, value):\n",
    "        node = Node(value)\n",
    "        self.head = node\n",
    "        self.tail = node\n",
    "        self.length = 1"
   ]
  },
  {
   "cell_type": "code",
   "execution_count": 4,
   "metadata": {},
   "outputs": [
    {
     "data": {
      "text/plain": [
       "5"
      ]
     },
     "execution_count": 4,
     "metadata": {},
     "output_type": "execute_result"
    }
   ],
   "source": [
    "ll = DoublyLinkedList(5)\n",
    "ll.head.value"
   ]
  },
  {
   "cell_type": "code",
   "execution_count": 5,
   "metadata": {},
   "outputs": [],
   "source": [
    "# util method to convert to list\n",
    "# DoublyLinkedList\n",
    "class DoublyLinkedList():\n",
    "    def __init__(self, value):\n",
    "        node = Node(value)\n",
    "        self.head = node\n",
    "        self.tail = node\n",
    "        self.length = 1\n",
    "    \n",
    "    def to_list(self):\n",
    "        l = []\n",
    "        h = self.head\n",
    "        while h:\n",
    "            l.append(h.value)\n",
    "            h = h.next\n",
    "        return l"
   ]
  },
  {
   "cell_type": "code",
   "execution_count": 6,
   "metadata": {},
   "outputs": [
    {
     "data": {
      "text/plain": [
       "[5, 8]"
      ]
     },
     "execution_count": 6,
     "metadata": {},
     "output_type": "execute_result"
    }
   ],
   "source": [
    "ll = DoublyLinkedList(5)\n",
    "ll.head.next = Node(8)\n",
    "ll.to_list()"
   ]
  },
  {
   "cell_type": "code",
   "execution_count": 7,
   "metadata": {},
   "outputs": [],
   "source": [
    "# append method\n",
    "class DoublyLinkedList():\n",
    "    def __init__(self, value):\n",
    "        node = Node(value)\n",
    "        self.head = node\n",
    "        self.tail = node\n",
    "        self.length = 1\n",
    "    \n",
    "    def to_list(self):\n",
    "        l = []\n",
    "        h = self.head\n",
    "        while h:\n",
    "            l.append(h.value)\n",
    "            h = h.next\n",
    "        return l\n",
    "\n",
    "    def append(self, value):\n",
    "        if self.head == None:\n",
    "            node = Node(value)\n",
    "            self.head = node\n",
    "            self.tail = node\n",
    "        else:\n",
    "            node = Node(value)\n",
    "            node.prev = self.tail\n",
    "            self.tail.next = node\n",
    "            self.tail = node\n",
    "        return True"
   ]
  },
  {
   "cell_type": "code",
   "execution_count": 8,
   "metadata": {},
   "outputs": [
    {
     "data": {
      "text/plain": [
       "[1, 2, 3]"
      ]
     },
     "execution_count": 8,
     "metadata": {},
     "output_type": "execute_result"
    }
   ],
   "source": [
    "ll = DoublyLinkedList(1)\n",
    "ll.append(2)\n",
    "ll.append(3)\n",
    "ll.to_list()"
   ]
  },
  {
   "cell_type": "code",
   "execution_count": null,
   "metadata": {},
   "outputs": [],
   "source": []
  }
 ],
 "metadata": {
  "interpreter": {
   "hash": "2e16eb9cf582685a2069fbd1d69b094b0e503fcb31a60a6324e750c4274a81af"
  },
  "kernelspec": {
   "display_name": "Python 3.7.4 ('base')",
   "language": "python",
   "name": "python3"
  },
  "language_info": {
   "codemirror_mode": {
    "name": "ipython",
    "version": 3
   },
   "file_extension": ".py",
   "mimetype": "text/x-python",
   "name": "python",
   "nbconvert_exporter": "python",
   "pygments_lexer": "ipython3",
   "version": "3.7.4"
  },
  "orig_nbformat": 4
 },
 "nbformat": 4,
 "nbformat_minor": 2
}
