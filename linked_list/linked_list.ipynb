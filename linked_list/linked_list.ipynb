{
 "cells": [
  {
   "cell_type": "code",
   "execution_count": 1,
   "metadata": {},
   "outputs": [],
   "source": [
    "# implement some basic data structure and methods for a Linked List\n",
    "class Node:\n",
    "    def __init__(self, value):\n",
    "        self.value = value\n",
    "        self.next = None\n",
    "\n",
    "class LinkedList:\n",
    "    def __init__(self, value):\n",
    "        self.head = Node(value)\n",
    "        self.tail = self.head\n",
    "        self.length = 1\n"
   ]
  },
  {
   "cell_type": "code",
   "execution_count": 2,
   "metadata": {},
   "outputs": [
    {
     "name": "stdout",
     "output_type": "stream",
     "text": [
      "4\n"
     ]
    }
   ],
   "source": [
    "ll = LinkedList(4)\n",
    "print(ll.head.value)"
   ]
  },
  {
   "cell_type": "code",
   "execution_count": 7,
   "metadata": {},
   "outputs": [],
   "source": [
    "# create a print list method\n",
    "class LinkedList:\n",
    "    def __init__(self, value):\n",
    "        self.head = Node(value)\n",
    "        self.tail = self.head\n",
    "        self.length = 1\n",
    "\n",
    "    def to_list(self):\n",
    "        l = []\n",
    "        h = self.head\n",
    "        while h:\n",
    "            l.append(h.value)\n",
    "            h = h.next\n",
    "        return l"
   ]
  },
  {
   "cell_type": "code",
   "execution_count": 9,
   "metadata": {},
   "outputs": [
    {
     "data": {
      "text/plain": [
       "[1, 2, 3]"
      ]
     },
     "execution_count": 9,
     "metadata": {},
     "output_type": "execute_result"
    }
   ],
   "source": [
    "ll = LinkedList(1)\n",
    "ll.tail.next = Node(2)\n",
    "ll.tail.next.next = Node(3)\n",
    "\n",
    "ll.to_list()"
   ]
  },
  {
   "cell_type": "code",
   "execution_count": 10,
   "metadata": {},
   "outputs": [
    {
     "data": {
      "text/plain": [
       "[None]"
      ]
     },
     "execution_count": 10,
     "metadata": {},
     "output_type": "execute_result"
    }
   ],
   "source": [
    "# edge case\n",
    "ll = LinkedList(None)\n",
    "\n",
    "ll.to_list()"
   ]
  },
  {
   "cell_type": "code",
   "execution_count": 11,
   "metadata": {},
   "outputs": [
    {
     "data": {
      "text/plain": [
       "[None, 1, 2]"
      ]
     },
     "execution_count": 11,
     "metadata": {},
     "output_type": "execute_result"
    }
   ],
   "source": [
    "ll = LinkedList(None)\n",
    "ll.tail.next = Node(1)\n",
    "ll.tail.next.next = Node(2)\n",
    "\n",
    "ll.to_list()"
   ]
  },
  {
   "cell_type": "code",
   "execution_count": 31,
   "metadata": {},
   "outputs": [],
   "source": [
    "# append method\n",
    "class LinkedList:\n",
    "    def __init__(self, value):\n",
    "        self.head = Node(value)\n",
    "        self.tail = self.head\n",
    "        self.length = 1\n",
    "\n",
    "    def to_list(self):\n",
    "        l = []\n",
    "        h = self.head\n",
    "        while h:\n",
    "            l.append(h.value)\n",
    "            h = h.next\n",
    "        return l\n",
    "\n",
    "    def append(self, value):\n",
    "        if self.tail == None or self.head == None:\n",
    "            self.head = Node(value)\n",
    "            self.tail = self.head\n",
    "        else:\n",
    "            node = Node(value)\n",
    "            self.tail.next = node\n",
    "            self.tail = node\n",
    "        self.length += 1\n",
    "        return True"
   ]
  },
  {
   "cell_type": "code",
   "execution_count": 32,
   "metadata": {},
   "outputs": [
    {
     "data": {
      "text/plain": [
       "[None, 1]"
      ]
     },
     "execution_count": 32,
     "metadata": {},
     "output_type": "execute_result"
    }
   ],
   "source": [
    "l = LinkedList(None)\n",
    "l.append(1)\n",
    "\n",
    "l.to_list()"
   ]
  },
  {
   "cell_type": "code",
   "execution_count": 33,
   "metadata": {},
   "outputs": [
    {
     "data": {
      "text/plain": [
       "[None, 1, 2, 4]"
      ]
     },
     "execution_count": 33,
     "metadata": {},
     "output_type": "execute_result"
    }
   ],
   "source": [
    "l.append(2)\n",
    "l.append(4)\n",
    "\n",
    "l.to_list()"
   ]
  },
  {
   "cell_type": "code",
   "execution_count": 34,
   "metadata": {},
   "outputs": [
    {
     "data": {
      "text/plain": [
       "[None, 1, 2, 4, None, 5]"
      ]
     },
     "execution_count": 34,
     "metadata": {},
     "output_type": "execute_result"
    }
   ],
   "source": [
    "l.append(None)\n",
    "l.append(5)\n",
    "\n",
    "l.to_list()"
   ]
  },
  {
   "cell_type": "code",
   "execution_count": 35,
   "metadata": {},
   "outputs": [],
   "source": [
    "# pop method\n",
    "class LinkedList:\n",
    "    def __init__(self, value):\n",
    "        self.head = Node(value)\n",
    "        self.tail = self.head\n",
    "        self.length = 1\n",
    "\n",
    "    def to_list(self):\n",
    "        l = []\n",
    "        h = self.head\n",
    "        while h:\n",
    "            l.append(h.value)\n",
    "            h = h.next\n",
    "        return l\n",
    "\n",
    "    def append(self, value):\n",
    "        if self.tail == None or self.head == None:\n",
    "            self.head = Node(value)\n",
    "            self.tail = self.head\n",
    "        else:\n",
    "            node = Node(value)\n",
    "            self.tail.next = node\n",
    "            self.tail = node\n",
    "        self.length += 1\n",
    "        return True\n",
    "\n",
    "    def pop(self):\n",
    "        if self.tail == self.head:\n",
    "            self.head = None\n",
    "            self.tail = None\n",
    "        else:\n",
    "            # travel to the node before the tail\n",
    "            node = self.head\n",
    "            while node.next is not self.tail:\n",
    "                node = node.next\n",
    "            old_tail = self.tail\n",
    "            node.next = None\n",
    "            self.tail = node\n",
    "            old_tail = None\n",
    "        self.length -= 1\n",
    "        return True"
   ]
  },
  {
   "cell_type": "code",
   "execution_count": 36,
   "metadata": {},
   "outputs": [
    {
     "data": {
      "text/plain": [
       "[1, 2, 3, 4]"
      ]
     },
     "execution_count": 36,
     "metadata": {},
     "output_type": "execute_result"
    }
   ],
   "source": [
    "l = LinkedList(1)\n",
    "l.append(2)\n",
    "l.append(3)\n",
    "l.append(4)\n",
    "\n",
    "l.to_list()"
   ]
  },
  {
   "cell_type": "code",
   "execution_count": 37,
   "metadata": {},
   "outputs": [
    {
     "data": {
      "text/plain": [
       "[1, 2, 3]"
      ]
     },
     "execution_count": 37,
     "metadata": {},
     "output_type": "execute_result"
    }
   ],
   "source": [
    "l.pop()\n",
    "l.to_list()"
   ]
  },
  {
   "cell_type": "code",
   "execution_count": 38,
   "metadata": {},
   "outputs": [],
   "source": [
    "# reverse method\n",
    "class LinkedList:\n",
    "    def __init__(self, value):\n",
    "        self.head = Node(value)\n",
    "        self.tail = self.head\n",
    "        self.length = 1\n",
    "\n",
    "    def to_list(self):\n",
    "        l = []\n",
    "        h = self.head\n",
    "        while h:\n",
    "            l.append(h.value)\n",
    "            h = h.next\n",
    "        return l\n",
    "\n",
    "    def append(self, value):\n",
    "        if self.tail == None or self.head == None:\n",
    "            self.head = Node(value)\n",
    "            self.tail = self.head\n",
    "        else:\n",
    "            node = Node(value)\n",
    "            self.tail.next = node\n",
    "            self.tail = node\n",
    "        self.length += 1\n",
    "        return True\n",
    "\n",
    "    def pop(self):\n",
    "        if self.tail == self.head:\n",
    "            self.head = None\n",
    "            self.tail = None\n",
    "        else:\n",
    "            # travel to the node before the tail\n",
    "            node = self.head\n",
    "            while node.next is not self.tail:\n",
    "                node = node.next\n",
    "            old_tail = self.tail\n",
    "            node.next = None\n",
    "            self.tail = node\n",
    "            old_tail = None\n",
    "        self.length -= 1\n",
    "        return True\n",
    "\n",
    "    def reverse(self):\n",
    "        # reverse head/tail\n",
    "        self.head,self.tail = self.tail,self.head\n",
    "\n",
    "        # use three pointers to move along the linked list to reverse\n",
    "        before = None\n",
    "        current = self.tail # old head\n",
    "        after = current.next\n",
    "\n",
    "        # loop to travese along the list untill the end\n",
    "        while current is not None:\n",
    "            # exact order to hold the correct pointer to reverse the direction that 'current' is holding\n",
    "            after = current.next # hold pointer to the one after current\n",
    "            current.next = before # reverse direction that current is holding\n",
    "            before = current # move before forward one node\n",
    "            current = after # now move current forward one node\n",
    "        return True\n",
    "\n",
    "    "
   ]
  },
  {
   "cell_type": "code",
   "execution_count": 39,
   "metadata": {},
   "outputs": [
    {
     "data": {
      "text/plain": [
       "[1, 2, 3, 4]"
      ]
     },
     "execution_count": 39,
     "metadata": {},
     "output_type": "execute_result"
    }
   ],
   "source": [
    "l = LinkedList(1)\n",
    "l.append(2)\n",
    "l.append(3)\n",
    "l.append(4)\n",
    "\n",
    "l.to_list()"
   ]
  },
  {
   "cell_type": "code",
   "execution_count": 40,
   "metadata": {},
   "outputs": [
    {
     "data": {
      "text/plain": [
       "[4, 3, 2, 1]"
      ]
     },
     "execution_count": 40,
     "metadata": {},
     "output_type": "execute_result"
    }
   ],
   "source": [
    "l.reverse()\n",
    "l.to_list()"
   ]
  },
  {
   "cell_type": "code",
   "execution_count": null,
   "metadata": {},
   "outputs": [],
   "source": []
  }
 ],
 "metadata": {
  "interpreter": {
   "hash": "2e16eb9cf582685a2069fbd1d69b094b0e503fcb31a60a6324e750c4274a81af"
  },
  "kernelspec": {
   "display_name": "Python 3.7.4 ('base')",
   "language": "python",
   "name": "python3"
  },
  "language_info": {
   "codemirror_mode": {
    "name": "ipython",
    "version": 3
   },
   "file_extension": ".py",
   "mimetype": "text/x-python",
   "name": "python",
   "nbconvert_exporter": "python",
   "pygments_lexer": "ipython3",
   "version": "3.7.4"
  },
  "orig_nbformat": 4
 },
 "nbformat": 4,
 "nbformat_minor": 2
}
