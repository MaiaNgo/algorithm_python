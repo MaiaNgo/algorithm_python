{
 "cells": [
  {
   "cell_type": "code",
   "execution_count": 1,
   "metadata": {},
   "outputs": [],
   "source": [
    "# given a array of intergers, move all the zeros to the end and keep others in original order\n",
    "l = [0,1,3,6,0,34] \n",
    "# -> [1,3,6,34,0,0]"
   ]
  },
  {
   "cell_type": "code",
   "execution_count": 2,
   "metadata": {},
   "outputs": [],
   "source": [
    "# brute force\n",
    "# find each zero, then move it to the end by shifting all others left\n",
    "def move_zeros(l):\n",
    "    n = len(l)\n",
    "    for i in range(n):\n",
    "        if l[i] == 0:\n",
    "            for j in range(i+1, n):\n",
    "                l[j-1] = l[j]\n",
    "            l[n-1] = 0\n",
    "    return l"
   ]
  },
  {
   "cell_type": "code",
   "execution_count": 3,
   "metadata": {},
   "outputs": [
    {
     "data": {
      "text/plain": [
       "[1, 3, 6, 34, 0, 0]"
      ]
     },
     "execution_count": 3,
     "metadata": {},
     "output_type": "execute_result"
    }
   ],
   "source": [
    "move_zeros(l)"
   ]
  },
  {
   "cell_type": "code",
   "execution_count": 4,
   "metadata": {},
   "outputs": [],
   "source": [
    "# improved\n",
    "# go through the list only one time to find non-zero and put in a second list\n",
    "# count zeros to add at the end\n",
    "def move_zeros(l):\n",
    "    result = []\n",
    "    count_zeros = 0\n",
    "    for n in l:\n",
    "        if n:\n",
    "            result.append(n)\n",
    "        else:\n",
    "            count_zeros += 1\n",
    "    result.extend([0]*count_zeros)\n",
    "    return result"
   ]
  },
  {
   "cell_type": "code",
   "execution_count": 5,
   "metadata": {},
   "outputs": [
    {
     "data": {
      "text/plain": [
       "[1, 3, 6, 34, 0, 0]"
      ]
     },
     "execution_count": 5,
     "metadata": {},
     "output_type": "execute_result"
    }
   ],
   "source": [
    "move_zeros(l)"
   ]
  },
  {
   "cell_type": "code",
   "execution_count": 7,
   "metadata": {},
   "outputs": [],
   "source": [
    "# a bit better\n",
    "# no need the second list to save space\n",
    "def move_zeros(l):\n",
    "    i = 0\n",
    "    for n in l:\n",
    "        if n:\n",
    "            l[i] = n\n",
    "            i += 1\n",
    "    for j in range(i, len(l)):\n",
    "        l[j] = 0\n",
    "    return l"
   ]
  },
  {
   "cell_type": "code",
   "execution_count": 8,
   "metadata": {},
   "outputs": [
    {
     "data": {
      "text/plain": [
       "[1, 3, 6, 34, 0, 0]"
      ]
     },
     "execution_count": 8,
     "metadata": {},
     "output_type": "execute_result"
    }
   ],
   "source": [
    "move_zeros(l)"
   ]
  },
  {
   "cell_type": "code",
   "execution_count": null,
   "metadata": {},
   "outputs": [],
   "source": []
  }
 ],
 "metadata": {
  "interpreter": {
   "hash": "2e16eb9cf582685a2069fbd1d69b094b0e503fcb31a60a6324e750c4274a81af"
  },
  "kernelspec": {
   "display_name": "Python 3.7.4 ('base')",
   "language": "python",
   "name": "python3"
  },
  "language_info": {
   "codemirror_mode": {
    "name": "ipython",
    "version": 3
   },
   "file_extension": ".py",
   "mimetype": "text/x-python",
   "name": "python",
   "nbconvert_exporter": "python",
   "pygments_lexer": "ipython3",
   "version": "3.7.4"
  },
  "orig_nbformat": 4
 },
 "nbformat": 4,
 "nbformat_minor": 2
}
