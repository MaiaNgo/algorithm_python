{
 "cells": [
  {
   "cell_type": "code",
   "execution_count": 1,
   "metadata": {},
   "outputs": [],
   "source": [
    "# Given a string s and a number n\n",
    "# Rewrite the string s in n row and in zigzag pattern: down -> cross up -> down\n",
    "# Then, read it line by line\n",
    "s = 'HelloWorld'\n",
    "n = 2\n",
    "\n",
    "# H  l  o  o  l\n",
    "# e  l  W  r  d\n",
    "# -> HloolelWrd"
   ]
  },
  {
   "cell_type": "code",
   "execution_count": 39,
   "metadata": {},
   "outputs": [],
   "source": [
    "# idea: traverse through the s and put the char in the 2D rowsist\n",
    "def zigzag_conversion(s: str, n: int) -> str:\n",
    "    if n == 1:\n",
    "        return s\n",
    "\n",
    "    rows = []\n",
    "    for _ in range(n):\n",
    "        rows.append([])\n",
    "\n",
    "    row_index = 0\n",
    "    down_step = 0\n",
    "    for c in s:\n",
    "        rows[row_index].append(c)\n",
    "        if row_index == 0: # top row -> go down 1 row\n",
    "            down_step = 1\n",
    "        elif row_index == n-1: # botton row -> go up 1 row\n",
    "            down_step = -1\n",
    "        row_index += down_step\n",
    "        \n",
    "    result = ''\n",
    "    for i in range(n):\n",
    "        result += ''.join(rows[i]) \n",
    "\n",
    "    return result"
   ]
  },
  {
   "cell_type": "code",
   "execution_count": 40,
   "metadata": {},
   "outputs": [
    {
     "data": {
      "text/plain": [
       "'PAHNAPLSIIGYIR'"
      ]
     },
     "execution_count": 40,
     "metadata": {},
     "output_type": "execute_result"
    }
   ],
   "source": [
    "zigzag_conversion('PAYPALISHIRING', 3)"
   ]
  },
  {
   "cell_type": "code",
   "execution_count": 41,
   "metadata": {},
   "outputs": [
    {
     "data": {
      "text/plain": [
       "'PINALSIGYAHRPI'"
      ]
     },
     "execution_count": 41,
     "metadata": {},
     "output_type": "execute_result"
    }
   ],
   "source": [
    "zigzag_conversion('PAYPALISHIRING', 4)"
   ]
  },
  {
   "cell_type": "code",
   "execution_count": 42,
   "metadata": {},
   "outputs": [
    {
     "data": {
      "text/plain": [
       "'ABC'"
      ]
     },
     "execution_count": 42,
     "metadata": {},
     "output_type": "execute_result"
    }
   ],
   "source": [
    "zigzag_conversion('ABC', 1)"
   ]
  },
  {
   "cell_type": "code",
   "execution_count": 56,
   "metadata": {},
   "outputs": [],
   "source": [
    "# same solution, more concise\n",
    "# idea: traverse through the s and put the char in the 2D rowsist\n",
    "def zigzag_conversion(s: str, numRows: int) -> str:\n",
    "    if numRows == 1:\n",
    "        return s\n",
    "\n",
    "    rows = []\n",
    "    for _ in range(numRows):\n",
    "        rows.append('')\n",
    "\n",
    "    row_index = 0\n",
    "    down_step = 0\n",
    "    for c in s:\n",
    "        rows[row_index] += c\n",
    "        if row_index == 0: # top row -> go down 1 row\n",
    "            down_step = 1\n",
    "        elif row_index == numRows-1: # botton row -> go up 1 row\n",
    "            down_step = -1\n",
    "        row_index += down_step\n",
    "        \n",
    "    return ''.join(rows)"
   ]
  },
  {
   "cell_type": "code",
   "execution_count": 57,
   "metadata": {},
   "outputs": [
    {
     "data": {
      "text/plain": [
       "'ABC'"
      ]
     },
     "execution_count": 57,
     "metadata": {},
     "output_type": "execute_result"
    }
   ],
   "source": [
    "zigzag_conversion('ABC', 1)"
   ]
  },
  {
   "cell_type": "code",
   "execution_count": 58,
   "metadata": {},
   "outputs": [
    {
     "data": {
      "text/plain": [
       "'PINALSIGYAHRPI'"
      ]
     },
     "execution_count": 58,
     "metadata": {},
     "output_type": "execute_result"
    }
   ],
   "source": [
    "zigzag_conversion('PAYPALISHIRING', 4)"
   ]
  },
  {
   "cell_type": "code",
   "execution_count": null,
   "metadata": {},
   "outputs": [],
   "source": []
  }
 ],
 "metadata": {
  "interpreter": {
   "hash": "2e16eb9cf582685a2069fbd1d69b094b0e503fcb31a60a6324e750c4274a81af"
  },
  "kernelspec": {
   "display_name": "Python 3.7.4 ('base')",
   "language": "python",
   "name": "python3"
  },
  "language_info": {
   "codemirror_mode": {
    "name": "ipython",
    "version": 3
   },
   "file_extension": ".py",
   "mimetype": "text/x-python",
   "name": "python",
   "nbconvert_exporter": "python",
   "pygments_lexer": "ipython3",
   "version": "3.7.4"
  },
  "orig_nbformat": 4
 },
 "nbformat": 4,
 "nbformat_minor": 2
}
