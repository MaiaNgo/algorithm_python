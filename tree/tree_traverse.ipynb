{
 "cells": [
  {
   "cell_type": "code",
   "execution_count": null,
   "metadata": {},
   "outputs": [],
   "source": [
    "# Breadth First Search\n",
    "# the idea is to from root down and finish all children nodes at same level before going to deeper level"
   ]
  },
  {
   "cell_type": "code",
   "execution_count": 1,
   "metadata": {},
   "outputs": [],
   "source": [
    "# node\n",
    "class Node():\n",
    "    def __init__(self, value):\n",
    "        self.value = value\n",
    "        self.left = None\n",
    "        self.right = None\n",
    "\n",
    "class BinarySearchTree():\n",
    "    def __init__(self):\n",
    "        self.root = None\n",
    "\n",
    "    def insert(self, value):\n",
    "        node = Node(value)\n",
    "        if self.root == None:\n",
    "            self.root = node\n",
    "            return True\n",
    "\n",
    "        curNode = self.root\n",
    "        nextNode = None\n",
    "        while True:\n",
    "            if value < curNode.value:\n",
    "                # go left\n",
    "                nextNode = curNode.left\n",
    "                if nextNode == None:\n",
    "                    curNode.left = node\n",
    "                    return True\n",
    "            elif value > curNode.value:\n",
    "                # go right\n",
    "                nextNode = curNode.right\n",
    "                if nextNode == None:\n",
    "                    curNode.right = node\n",
    "                    return True\n",
    "            else:\n",
    "                return False\n",
    "\n",
    "            # move forward to next node if have not return\n",
    "            curNode = nextNode        \n",
    "  \n"
   ]
  },
  {
   "cell_type": "code",
   "execution_count": 4,
   "metadata": {},
   "outputs": [],
   "source": [
    "# tree breadth first search\n",
    "def tree_bfs(root: Node):\n",
    "    l = [] # result list\n",
    "    q = [root] # queue to store nodes to be process\n",
    "\n",
    "    i = 0 # index of current node in queue to be process\n",
    "    while i < len(q):\n",
    "        node = q[i]\n",
    "        l.append(node.value)\n",
    "        if node.left:\n",
    "            q.append(node.left)\n",
    "        if node.right:\n",
    "            q.append(node.right)\n",
    "        i += 1\n",
    "    \n",
    "    return l\n",
    "\n"
   ]
  },
  {
   "cell_type": "code",
   "execution_count": 5,
   "metadata": {},
   "outputs": [
    {
     "data": {
      "text/plain": [
       "[10, 1, 12, 3]"
      ]
     },
     "execution_count": 5,
     "metadata": {},
     "output_type": "execute_result"
    }
   ],
   "source": [
    "btree = BinarySearchTree()\n",
    "btree.insert(10)\n",
    "btree.insert(1)\n",
    "btree.insert(3)\n",
    "btree.insert(12)\n",
    "\n",
    "tree_bfs(btree.root)"
   ]
  },
  {
   "cell_type": "code",
   "execution_count": 9,
   "metadata": {},
   "outputs": [],
   "source": [
    "# Depth First Search\n",
    "# the idea is we go all thee way deep to the left and then right until traverse all nodes\n",
    "def traverse(l, node: Node):\n",
    "    l.append(node.value)\n",
    "    if node.left:\n",
    "        traverse(l, node.left)\n",
    "    if node.right:\n",
    "        traverse(l, node.right)\n",
    "\n",
    "def tree_dfs(root: Node):\n",
    "    l = []\n",
    "    traverse(l, root)\n",
    "    return l\n"
   ]
  },
  {
   "cell_type": "code",
   "execution_count": 10,
   "metadata": {},
   "outputs": [
    {
     "data": {
      "text/plain": [
       "[10, 1, 3, 12]"
      ]
     },
     "execution_count": 10,
     "metadata": {},
     "output_type": "execute_result"
    }
   ],
   "source": [
    "tree_dfs(btree.root)"
   ]
  },
  {
   "cell_type": "code",
   "execution_count": 11,
   "metadata": {},
   "outputs": [],
   "source": [
    "# better organized\n",
    "# Depth First Search\n",
    "# the idea is we go all thee way deep to the left and then right until traverse all nodes\n",
    "# pre-order - put the current code value into the list first before traverse to next nodes\n",
    "def tree_dfs(root: Node):\n",
    "    def traverse(l, node: Node):\n",
    "        l.append(node.value)\n",
    "        if node.left:\n",
    "            traverse(l, node.left)\n",
    "        if node.right:\n",
    "            traverse(l, node.right)\n",
    "\n",
    "    l = []\n",
    "    traverse(l, root)\n",
    "    return l"
   ]
  },
  {
   "cell_type": "code",
   "execution_count": 12,
   "metadata": {},
   "outputs": [
    {
     "data": {
      "text/plain": [
       "[10, 1, 3, 12]"
      ]
     },
     "execution_count": 12,
     "metadata": {},
     "output_type": "execute_result"
    }
   ],
   "source": [
    "tree_dfs(btree.root)"
   ]
  },
  {
   "cell_type": "code",
   "execution_count": 13,
   "metadata": {},
   "outputs": [],
   "source": [
    "# post-order - traverse first until then end, then start putting value into the list\n",
    "def tree_dfs(root: Node):\n",
    "    def traverse(l, node: Node):\n",
    "        if node.left:\n",
    "            traverse(l, node.left)\n",
    "        if node.right:\n",
    "            traverse(l, node.right)\n",
    "        l.append(node.value)\n",
    "\n",
    "    l = []\n",
    "    traverse(l, root)\n",
    "    return l"
   ]
  },
  {
   "cell_type": "code",
   "execution_count": 14,
   "metadata": {},
   "outputs": [
    {
     "data": {
      "text/plain": [
       "[3, 1, 12, 10]"
      ]
     },
     "execution_count": 14,
     "metadata": {},
     "output_type": "execute_result"
    }
   ],
   "source": [
    "tree_dfs(btree.root)"
   ]
  },
  {
   "cell_type": "code",
   "execution_count": 15,
   "metadata": {},
   "outputs": [],
   "source": [
    "# in-order - traverse left first, write value, then traverse right\n",
    "def tree_dfs(root: Node):\n",
    "    def traverse(l, node: Node):\n",
    "        if node.left:\n",
    "            traverse(l, node.left)\n",
    "        l.append(node.value)\n",
    "        if node.right:\n",
    "            traverse(l, node.right)\n",
    "        \n",
    "    l = []\n",
    "    traverse(l, root)\n",
    "    return l"
   ]
  },
  {
   "cell_type": "code",
   "execution_count": 16,
   "metadata": {},
   "outputs": [
    {
     "data": {
      "text/plain": [
       "[1, 3, 10, 12]"
      ]
     },
     "execution_count": 16,
     "metadata": {},
     "output_type": "execute_result"
    }
   ],
   "source": [
    "tree_dfs(btree.root)"
   ]
  },
  {
   "cell_type": "code",
   "execution_count": null,
   "metadata": {},
   "outputs": [],
   "source": []
  }
 ],
 "metadata": {
  "interpreter": {
   "hash": "2e16eb9cf582685a2069fbd1d69b094b0e503fcb31a60a6324e750c4274a81af"
  },
  "kernelspec": {
   "display_name": "Python 3.7.4 ('base')",
   "language": "python",
   "name": "python3"
  },
  "language_info": {
   "codemirror_mode": {
    "name": "ipython",
    "version": 3
   },
   "file_extension": ".py",
   "mimetype": "text/x-python",
   "name": "python",
   "nbconvert_exporter": "python",
   "pygments_lexer": "ipython3",
   "version": "3.7.4"
  },
  "orig_nbformat": 4
 },
 "nbformat": 4,
 "nbformat_minor": 2
}
